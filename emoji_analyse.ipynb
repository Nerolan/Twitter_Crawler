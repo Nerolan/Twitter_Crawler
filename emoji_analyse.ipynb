{
 "cells": [
  {
   "cell_type": "code",
   "execution_count": 57,
   "metadata": {},
   "outputs": [
    {
     "name": "stderr",
     "output_type": "stream",
     "text": [
      "[nltk_data] Downloading package vader_lexicon to\n",
      "[nltk_data]     C:\\Users\\DS-1920\\AppData\\Roaming\\nltk_data...\n",
      "[nltk_data]   Package vader_lexicon is already up-to-date!\n"
     ]
    }
   ],
   "source": [
    "import pandas as pd\n",
    "import nltk\n",
    "import string\n",
    "import re\n",
    "import matplotlib.pyplot as plt\n",
    "import emoji\n",
    "from vaderSentiment.vaderSentiment import SentimentIntensityAnalyzer\n",
    "nltk.download('vader_lexicon')\n",
    "analyser = SentimentIntensityAnalyzer()"
   ]
  },
  {
   "cell_type": "code",
   "execution_count": 120,
   "metadata": {},
   "outputs": [],
   "source": [
    "df = pd.read_csv(\"acab/acab.csv\")"
   ]
  },
  {
   "cell_type": "code",
   "execution_count": 121,
   "metadata": {},
   "outputs": [],
   "source": [
    "def extract_emojis(text):\n",
    "  return ''.join(c for c in text if c in emoji.UNICODE_EMOJI)"
   ]
  },
  {
   "cell_type": "code",
   "execution_count": 122,
   "metadata": {},
   "outputs": [],
   "source": [
    "df['Tweet_Emoji'] = df['Tweets'].apply(lambda x: extract_emojis(x))"
   ]
  },
  {
   "cell_type": "code",
   "execution_count": 123,
   "metadata": {},
   "outputs": [],
   "source": [
    "def sentiment_analyzer_scores(sentence):\n",
    "    score = analyser.polarity_scores(sentence)\n",
    "    return score['compound']"
   ]
  },
  {
   "cell_type": "code",
   "execution_count": 124,
   "metadata": {},
   "outputs": [],
   "source": [
    "def compare_dataframes(df, emoji_df):\n",
    "    return len(emoji_df) / len(df)"
   ]
  },
  {
   "cell_type": "code",
   "execution_count": 125,
   "metadata": {},
   "outputs": [],
   "source": [
    "df['Sentiment'] = df['Tweets'].apply(lambda x: sentiment_analyzer_scores(x))\n",
    "df['Sentiment_Emoji'] = df['Tweet_Emoji'].apply(lambda x: sentiment_analyzer_scores(x))"
   ]
  },
  {
   "cell_type": "code",
   "execution_count": 126,
   "metadata": {},
   "outputs": [
    {
     "data": {
      "text/html": [
       "<div>\n",
       "<style scoped>\n",
       "    .dataframe tbody tr th:only-of-type {\n",
       "        vertical-align: middle;\n",
       "    }\n",
       "\n",
       "    .dataframe tbody tr th {\n",
       "        vertical-align: top;\n",
       "    }\n",
       "\n",
       "    .dataframe thead th {\n",
       "        text-align: right;\n",
       "    }\n",
       "</style>\n",
       "<table border=\"1\" class=\"dataframe\">\n",
       "  <thead>\n",
       "    <tr style=\"text-align: right;\">\n",
       "      <th></th>\n",
       "      <th>ID</th>\n",
       "      <th>Tweets</th>\n",
       "      <th>User</th>\n",
       "      <th>Location</th>\n",
       "      <th>Follower Count</th>\n",
       "      <th>Following Count</th>\n",
       "      <th>Number of Tweets</th>\n",
       "      <th>Account Created Date</th>\n",
       "      <th>Account Description</th>\n",
       "      <th>Verified</th>\n",
       "      <th>Favourites Count</th>\n",
       "      <th>Date</th>\n",
       "      <th>Subjectivity</th>\n",
       "      <th>Polarity</th>\n",
       "      <th>Tweet_Emoji</th>\n",
       "      <th>Sentiment</th>\n",
       "      <th>Sentiment_Emoji</th>\n",
       "    </tr>\n",
       "  </thead>\n",
       "  <tbody>\n",
       "    <tr>\n",
       "      <td>24795</td>\n",
       "      <td>1285097291871932416</td>\n",
       "      <td>@skepwich oh my god this is so messed up #blac...</td>\n",
       "      <td>skepboy6d</td>\n",
       "      <td>she/her | ign: skskskeppy</td>\n",
       "      <td>4000</td>\n",
       "      <td>121</td>\n",
       "      <td>19234</td>\n",
       "      <td>2019-07-05 21:30:36.000000</td>\n",
       "      <td>《 #SKEPPY : find your inner bisector ! 》ミ☆</td>\n",
       "      <td>False</td>\n",
       "      <td>60016</td>\n",
       "      <td>2020-07-20 14:48:00.489113</td>\n",
       "      <td>0.000</td>\n",
       "      <td>0.000</td>\n",
       "      <td></td>\n",
       "      <td>-0.2538</td>\n",
       "      <td>0.0000</td>\n",
       "    </tr>\n",
       "    <tr>\n",
       "      <td>24796</td>\n",
       "      <td>1285096865084694528</td>\n",
       "      <td>HOLY SHIT!?? THERE WAS A CHANCE SHE COULD’VE B...</td>\n",
       "      <td>brainwxrms_</td>\n",
       "      <td>United Kingdom</td>\n",
       "      <td>300</td>\n",
       "      <td>241</td>\n",
       "      <td>10247</td>\n",
       "      <td>2014-09-11 00:20:01.000000</td>\n",
       "      <td>#BlackLivesMatter today, tomorrow &amp; forever ♊️</td>\n",
       "      <td>False</td>\n",
       "      <td>8271</td>\n",
       "      <td>2020-07-20 14:48:00.489113</td>\n",
       "      <td>0.850</td>\n",
       "      <td>-0.375</td>\n",
       "      <td></td>\n",
       "      <td>-0.7229</td>\n",
       "      <td>0.0000</td>\n",
       "    </tr>\n",
       "    <tr>\n",
       "      <td>24797</td>\n",
       "      <td>1285096689846464513</td>\n",
       "      <td>Omg same. 😂👏🏽👏🏽 #PortlandProtest #seattleprote...</td>\n",
       "      <td>cookinwtechno</td>\n",
       "      <td>Seattle, WA</td>\n",
       "      <td>32</td>\n",
       "      <td>107</td>\n",
       "      <td>335</td>\n",
       "      <td>2019-07-19 01:10:59.000000</td>\n",
       "      <td>Seattle protestor here for the People’s demand...</td>\n",
       "      <td>False</td>\n",
       "      <td>1778</td>\n",
       "      <td>2020-07-20 14:48:00.489113</td>\n",
       "      <td>0.125</td>\n",
       "      <td>0.000</td>\n",
       "      <td>😂👏🏽👏🏽</td>\n",
       "      <td>0.4404</td>\n",
       "      <td>0.4404</td>\n",
       "    </tr>\n",
       "    <tr>\n",
       "      <td>24798</td>\n",
       "      <td>1285096335373291520</td>\n",
       "      <td>LOVING THIS MOM ENERGY!   #Pdxprotests #TrumpT...</td>\n",
       "      <td>anemonymity</td>\n",
       "      <td>United States</td>\n",
       "      <td>499</td>\n",
       "      <td>1477</td>\n",
       "      <td>5134</td>\n",
       "      <td>2009-04-27 23:24:50.000000</td>\n",
       "      <td>Feminist. Atheist. Lawyer. Nerd. Single mom. W...</td>\n",
       "      <td>False</td>\n",
       "      <td>57592</td>\n",
       "      <td>2020-07-20 14:48:00.489113</td>\n",
       "      <td>0.950</td>\n",
       "      <td>0.750</td>\n",
       "      <td></td>\n",
       "      <td>0.8298</td>\n",
       "      <td>0.0000</td>\n",
       "    </tr>\n",
       "    <tr>\n",
       "      <td>24799</td>\n",
       "      <td>1285096270210596864</td>\n",
       "      <td>all cops are cringe ass naenae babies and that...</td>\n",
       "      <td>scrrrt69</td>\n",
       "      <td>Seattle, WA</td>\n",
       "      <td>25</td>\n",
       "      <td>426</td>\n",
       "      <td>190</td>\n",
       "      <td>2019-05-20 23:45:41.000000</td>\n",
       "      <td>『she/her・16・12/15/18』-ＢＬＭ!- my gf is trapped o...</td>\n",
       "      <td>False</td>\n",
       "      <td>947</td>\n",
       "      <td>2020-07-20 14:48:00.489113</td>\n",
       "      <td>0.000</td>\n",
       "      <td>0.000</td>\n",
       "      <td>😎😩✊</td>\n",
       "      <td>-0.1280</td>\n",
       "      <td>0.2263</td>\n",
       "    </tr>\n",
       "  </tbody>\n",
       "</table>\n",
       "</div>"
      ],
      "text/plain": [
       "                        ID                                             Tweets  \\\n",
       "24795  1285097291871932416  @skepwich oh my god this is so messed up #blac...   \n",
       "24796  1285096865084694528  HOLY SHIT!?? THERE WAS A CHANCE SHE COULD’VE B...   \n",
       "24797  1285096689846464513  Omg same. 😂👏🏽👏🏽 #PortlandProtest #seattleprote...   \n",
       "24798  1285096335373291520  LOVING THIS MOM ENERGY!   #Pdxprotests #TrumpT...   \n",
       "24799  1285096270210596864  all cops are cringe ass naenae babies and that...   \n",
       "\n",
       "                User                   Location  Follower Count  \\\n",
       "24795      skepboy6d  she/her | ign: skskskeppy            4000   \n",
       "24796    brainwxrms_             United Kingdom             300   \n",
       "24797  cookinwtechno                Seattle, WA              32   \n",
       "24798    anemonymity              United States             499   \n",
       "24799       scrrrt69                Seattle, WA              25   \n",
       "\n",
       "       Following Count  Number of Tweets        Account Created Date  \\\n",
       "24795              121             19234  2019-07-05 21:30:36.000000   \n",
       "24796              241             10247  2014-09-11 00:20:01.000000   \n",
       "24797              107               335  2019-07-19 01:10:59.000000   \n",
       "24798             1477              5134  2009-04-27 23:24:50.000000   \n",
       "24799              426               190  2019-05-20 23:45:41.000000   \n",
       "\n",
       "                                     Account Description  Verified  \\\n",
       "24795         《 #SKEPPY : find your inner bisector ! 》ミ☆     False   \n",
       "24796     #BlackLivesMatter today, tomorrow & forever ♊️     False   \n",
       "24797  Seattle protestor here for the People’s demand...     False   \n",
       "24798  Feminist. Atheist. Lawyer. Nerd. Single mom. W...     False   \n",
       "24799  『she/her・16・12/15/18』-ＢＬＭ!- my gf is trapped o...     False   \n",
       "\n",
       "       Favourites Count                        Date  Subjectivity  Polarity  \\\n",
       "24795             60016  2020-07-20 14:48:00.489113         0.000     0.000   \n",
       "24796              8271  2020-07-20 14:48:00.489113         0.850    -0.375   \n",
       "24797              1778  2020-07-20 14:48:00.489113         0.125     0.000   \n",
       "24798             57592  2020-07-20 14:48:00.489113         0.950     0.750   \n",
       "24799               947  2020-07-20 14:48:00.489113         0.000     0.000   \n",
       "\n",
       "      Tweet_Emoji  Sentiment  Sentiment_Emoji  \n",
       "24795                -0.2538           0.0000  \n",
       "24796                -0.7229           0.0000  \n",
       "24797       😂👏🏽👏🏽     0.4404           0.4404  \n",
       "24798                 0.8298           0.0000  \n",
       "24799         😎😩✊    -0.1280           0.2263  "
      ]
     },
     "execution_count": 126,
     "metadata": {},
     "output_type": "execute_result"
    }
   ],
   "source": [
    "df.tail()"
   ]
  },
  {
   "cell_type": "code",
   "execution_count": 127,
   "metadata": {},
   "outputs": [
    {
     "data": {
      "text/plain": [
       "     22160\n",
       "🙄      139\n",
       "🐷       88\n",
       "🤔       77\n",
       "❤       70\n",
       "Name: Tweet_Emoji, dtype: int64"
      ]
     },
     "execution_count": 127,
     "metadata": {},
     "output_type": "execute_result"
    }
   ],
   "source": [
    "df.Tweet_Emoji.value_counts()[:5]"
   ]
  },
  {
   "cell_type": "code",
   "execution_count": 128,
   "metadata": {},
   "outputs": [
    {
     "data": {
      "text/plain": [
       "0.4404"
      ]
     },
     "execution_count": 128,
     "metadata": {},
     "output_type": "execute_result"
    }
   ],
   "source": [
    "sentiment_analyzer_scores('The food is good')"
   ]
  },
  {
   "cell_type": "code",
   "execution_count": 129,
   "metadata": {},
   "outputs": [
    {
     "data": {
      "text/plain": [
       "0.5622"
      ]
     },
     "execution_count": 129,
     "metadata": {},
     "output_type": "execute_result"
    }
   ],
   "source": [
    "sentiment_analyzer_scores('The food is GOOD')"
   ]
  },
  {
   "cell_type": "code",
   "execution_count": 130,
   "metadata": {},
   "outputs": [
    {
     "data": {
      "text/plain": [
       "0.6027"
      ]
     },
     "execution_count": 130,
     "metadata": {},
     "output_type": "execute_result"
    }
   ],
   "source": [
    "sentiment_analyzer_scores('The food is GOOD!')"
   ]
  },
  {
   "cell_type": "code",
   "execution_count": 131,
   "metadata": {},
   "outputs": [
    {
     "data": {
      "text/plain": [
       "0.639"
      ]
     },
     "execution_count": 131,
     "metadata": {},
     "output_type": "execute_result"
    }
   ],
   "source": [
    "sentiment_analyzer_scores('The food is GOOD!!')"
   ]
  },
  {
   "cell_type": "code",
   "execution_count": 132,
   "metadata": {},
   "outputs": [
    {
     "name": "stdout",
     "output_type": "stream",
     "text": [
      "<class 'pandas.core.frame.DataFrame'>\n",
      "RangeIndex: 24800 entries, 0 to 24799\n",
      "Data columns (total 17 columns):\n",
      "ID                      24800 non-null int64\n",
      "Tweets                  24800 non-null object\n",
      "User                    24800 non-null object\n",
      "Location                18344 non-null object\n",
      "Follower Count          24800 non-null int64\n",
      "Following Count         24800 non-null int64\n",
      "Number of Tweets        24800 non-null int64\n",
      "Account Created Date    24800 non-null object\n",
      "Account Description     23962 non-null object\n",
      "Verified                24800 non-null bool\n",
      "Favourites Count        24800 non-null int64\n",
      "Date                    24800 non-null object\n",
      "Subjectivity            24800 non-null float64\n",
      "Polarity                24800 non-null float64\n",
      "Tweet_Emoji             24800 non-null object\n",
      "Sentiment               24800 non-null float64\n",
      "Sentiment_Emoji         24800 non-null float64\n",
      "dtypes: bool(1), float64(4), int64(5), object(7)\n",
      "memory usage: 3.1+ MB\n"
     ]
    }
   ],
   "source": [
    "df.info()"
   ]
  },
  {
   "cell_type": "code",
   "execution_count": 133,
   "metadata": {},
   "outputs": [
    {
     "name": "stdout",
     "output_type": "stream",
     "text": [
      "<class 'pandas.core.frame.DataFrame'>\n",
      "Int64Index: 2640 entries, 23 to 24799\n",
      "Data columns (total 17 columns):\n",
      "ID                      2640 non-null int64\n",
      "Tweets                  2640 non-null object\n",
      "User                    2640 non-null object\n",
      "Location                1894 non-null object\n",
      "Follower Count          2640 non-null int64\n",
      "Following Count         2640 non-null int64\n",
      "Number of Tweets        2640 non-null int64\n",
      "Account Created Date    2640 non-null object\n",
      "Account Description     2589 non-null object\n",
      "Verified                2640 non-null bool\n",
      "Favourites Count        2640 non-null int64\n",
      "Date                    2640 non-null object\n",
      "Subjectivity            2640 non-null float64\n",
      "Polarity                2640 non-null float64\n",
      "Tweet_Emoji             2640 non-null object\n",
      "Sentiment               2640 non-null float64\n",
      "Sentiment_Emoji         2640 non-null float64\n",
      "dtypes: bool(1), float64(4), int64(5), object(7)\n",
      "memory usage: 353.2+ KB\n"
     ]
    }
   ],
   "source": [
    "emoji_df = df[df.Tweet_Emoji.notnull()]\n",
    "emoji_df = emoji_df[emoji_df.Tweet_Emoji != '']\n",
    "emoji_df.info()"
   ]
  },
  {
   "cell_type": "code",
   "execution_count": 134,
   "metadata": {},
   "outputs": [
    {
     "name": "stdout",
     "output_type": "stream",
     "text": [
      "0.1064516129032258\n"
     ]
    }
   ],
   "source": [
    "tweets_with_emojis = compare_dataframes(df, emoji_df)\n",
    "print(tweets_with_emojis)"
   ]
  },
  {
   "cell_type": "code",
   "execution_count": 135,
   "metadata": {},
   "outputs": [
    {
     "name": "stdout",
     "output_type": "stream",
     "text": [
      "<class 'pandas.core.frame.DataFrame'>\n",
      "Int64Index: 1429 entries, 23 to 24799\n",
      "Data columns (total 17 columns):\n",
      "ID                      1429 non-null int64\n",
      "Tweets                  1429 non-null object\n",
      "User                    1429 non-null object\n",
      "Location                957 non-null object\n",
      "Follower Count          1429 non-null int64\n",
      "Following Count         1429 non-null int64\n",
      "Number of Tweets        1429 non-null int64\n",
      "Account Created Date    1429 non-null object\n",
      "Account Description     1429 non-null object\n",
      "Verified                1429 non-null bool\n",
      "Favourites Count        1429 non-null int64\n",
      "Date                    1429 non-null object\n",
      "Subjectivity            1429 non-null float64\n",
      "Polarity                1429 non-null float64\n",
      "Tweet_Emoji             1429 non-null object\n",
      "Sentiment               1429 non-null float64\n",
      "Sentiment_Emoji         1429 non-null float64\n",
      "dtypes: bool(1), float64(4), int64(5), object(7)\n",
      "memory usage: 191.2+ KB\n"
     ]
    }
   ],
   "source": [
    "emoji_with_sentiment_df = emoji_df[emoji_df.Sentiment_Emoji != 0.0]\n",
    "emoji_with_sentiment_df.info()"
   ]
  },
  {
   "cell_type": "code",
   "execution_count": 84,
   "metadata": {},
   "outputs": [],
   "source": [
    "# Was passiert hier?\n",
    "# emoji_df = df[df.Sentiment_Emoji.isna()]\n",
    "# emoji_df.head()"
   ]
  },
  {
   "cell_type": "code",
   "execution_count": 136,
   "metadata": {},
   "outputs": [
    {
     "data": {
      "text/plain": [
       "0.4215"
      ]
     },
     "execution_count": 136,
     "metadata": {},
     "output_type": "execute_result"
    }
   ],
   "source": [
    "sentiment_analyzer_scores('🤗')"
   ]
  },
  {
   "cell_type": "code",
   "execution_count": null,
   "metadata": {},
   "outputs": [],
   "source": []
  }
 ],
 "metadata": {
  "kernelspec": {
   "display_name": "Python 3",
   "language": "python",
   "name": "python3"
  },
  "language_info": {
   "codemirror_mode": {
    "name": "ipython",
    "version": 3
   },
   "file_extension": ".py",
   "mimetype": "text/x-python",
   "name": "python",
   "nbconvert_exporter": "python",
   "pygments_lexer": "ipython3",
   "version": "3.7.4"
  }
 },
 "nbformat": 4,
 "nbformat_minor": 2
}
