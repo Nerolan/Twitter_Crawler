{
 "cells": [
  {
   "cell_type": "code",
   "execution_count": 1,
   "metadata": {},
   "outputs": [
    {
     "name": "stdout",
     "output_type": "stream",
     "text": [
      "[nltk_data] Downloading package vader_lexicon to\n",
      "[nltk_data]     C:\\Users\\Nutzer\\AppData\\Roaming\\nltk_data...\n",
      "[nltk_data]   Package vader_lexicon is already up-to-date!\n"
     ]
    }
   ],
   "source": [
    "import pandas as pd\n",
    "import nltk\n",
    "import string\n",
    "import re\n",
    "import matplotlib.pyplot as plt\n",
    "import emoji\n",
    "from nltk.sentiment.vader import SentimentIntensityAnalyzer\n",
    "nltk.download('vader_lexicon')\n",
    "analyser = SentimentIntensityAnalyzer()"
   ]
  },
  {
   "cell_type": "code",
   "execution_count": 2,
   "metadata": {},
   "outputs": [],
   "source": [
    "df = pd.read_csv(\"blacklivesmatter.csv\")"
   ]
  },
  {
   "cell_type": "code",
   "execution_count": 3,
   "metadata": {},
   "outputs": [],
   "source": [
    "def extract_emojis(text):\n",
    "  return ''.join(c for c in text if c in emoji.UNICODE_EMOJI)"
   ]
  },
  {
   "cell_type": "code",
   "execution_count": 4,
   "metadata": {},
   "outputs": [],
   "source": [
    "df['Tweet_Emoji'] = df['Tweets'].apply(lambda x: extract_emojis(x))"
   ]
  },
  {
   "cell_type": "code",
   "execution_count": 41,
   "metadata": {},
   "outputs": [],
   "source": [
    "def sentiment_analyzer_scores(sentence):\n",
    "    score = analyser.polarity_scores(sentence)\n",
    "    return score['compound']"
   ]
  },
  {
   "cell_type": "code",
   "execution_count": 42,
   "metadata": {},
   "outputs": [],
   "source": [
    "df['Sentiment'] = df['Tweets'].apply(lambda x: sentiment_analyzer_scores(x))\n",
    "df['Sentiment_Emoji'] = df['Tweet_Emoji'].apply(lambda x: sentiment_analyzer_scores(x))"
   ]
  },
  {
   "cell_type": "code",
   "execution_count": 43,
   "metadata": {},
   "outputs": [
    {
     "data": {
      "text/html": [
       "<div>\n",
       "<style scoped>\n",
       "    .dataframe tbody tr th:only-of-type {\n",
       "        vertical-align: middle;\n",
       "    }\n",
       "\n",
       "    .dataframe tbody tr th {\n",
       "        vertical-align: top;\n",
       "    }\n",
       "\n",
       "    .dataframe thead th {\n",
       "        text-align: right;\n",
       "    }\n",
       "</style>\n",
       "<table border=\"1\" class=\"dataframe\">\n",
       "  <thead>\n",
       "    <tr style=\"text-align: right;\">\n",
       "      <th></th>\n",
       "      <th>Tweets</th>\n",
       "      <th>User</th>\n",
       "      <th>Location</th>\n",
       "      <th>Follower Count</th>\n",
       "      <th>Following Count</th>\n",
       "      <th>Number of Tweets</th>\n",
       "      <th>Account Created Date</th>\n",
       "      <th>Account Description</th>\n",
       "      <th>Verified</th>\n",
       "      <th>Favourites Count</th>\n",
       "      <th>Date</th>\n",
       "      <th>Subjectivity</th>\n",
       "      <th>Polarity</th>\n",
       "      <th>Tweet_Emoji</th>\n",
       "      <th>Sentiment</th>\n",
       "      <th>Sentiment_Emoji</th>\n",
       "    </tr>\n",
       "  </thead>\n",
       "  <tbody>\n",
       "    <tr>\n",
       "      <th>0</th>\n",
       "      <td>Year 7 pupils Jasmine &amp;amp; Maisie have been s...</td>\n",
       "      <td>UrmstonGrammar</td>\n",
       "      <td>M41 5UG</td>\n",
       "      <td>1988</td>\n",
       "      <td>124</td>\n",
       "      <td>2368</td>\n",
       "      <td>2010-11-15 13:55:42.000000</td>\n",
       "      <td>Urmston Grammar is a Selective Grammar, an Ind...</td>\n",
       "      <td>False</td>\n",
       "      <td>255</td>\n",
       "      <td>2020-07-09 13:08:47.554713</td>\n",
       "      <td>0.000000</td>\n",
       "      <td>0.000000</td>\n",
       "      <td></td>\n",
       "      <td>-0.3595</td>\n",
       "      <td>0.0</td>\n",
       "    </tr>\n",
       "    <tr>\n",
       "      <th>1</th>\n",
       "      <td>I didn't know who Lewis Howard Latimer was unt...</td>\n",
       "      <td>rapella</td>\n",
       "      <td>east sussex, england</td>\n",
       "      <td>1301</td>\n",
       "      <td>727</td>\n",
       "      <td>67991</td>\n",
       "      <td>2008-07-24 21:45:36.000000</td>\n",
       "      <td>web tart, linguist, cuerdas, ux, cyclist, poly...</td>\n",
       "      <td>False</td>\n",
       "      <td>14148</td>\n",
       "      <td>2020-07-09 13:08:47.566739</td>\n",
       "      <td>0.000000</td>\n",
       "      <td>0.000000</td>\n",
       "      <td>👇👇</td>\n",
       "      <td>0.0000</td>\n",
       "      <td>0.0</td>\n",
       "    </tr>\n",
       "    <tr>\n",
       "      <th>2</th>\n",
       "      <td>My NEW BLOG — '3 ways teachers can integrate S...</td>\n",
       "      <td>JorgeDoesPBL</td>\n",
       "      <td>United States</td>\n",
       "      <td>3937</td>\n",
       "      <td>3184</td>\n",
       "      <td>9647</td>\n",
       "      <td>2015-11-07 15:21:38.000000</td>\n",
       "      <td>Education Coach, Author &amp; Advocate @LifelongLD...</td>\n",
       "      <td>False</td>\n",
       "      <td>17685</td>\n",
       "      <td>2020-07-09 13:08:47.566739</td>\n",
       "      <td>0.727273</td>\n",
       "      <td>0.485227</td>\n",
       "      <td></td>\n",
       "      <td>0.8745</td>\n",
       "      <td>0.0</td>\n",
       "    </tr>\n",
       "    <tr>\n",
       "      <th>3</th>\n",
       "      <td>@minakimes @hbryant42 Jackie Robinson's daught...</td>\n",
       "      <td>nancylevine</td>\n",
       "      <td>Fairfax, CA</td>\n",
       "      <td>15622</td>\n",
       "      <td>9849</td>\n",
       "      <td>174865</td>\n",
       "      <td>2009-03-28 18:38:06.000000</td>\n",
       "      <td>Author THE TAO OF PUG 4-book series (Penguin/S...</td>\n",
       "      <td>False</td>\n",
       "      <td>193314</td>\n",
       "      <td>2020-07-09 13:08:47.566739</td>\n",
       "      <td>0.541667</td>\n",
       "      <td>0.233333</td>\n",
       "      <td></td>\n",
       "      <td>0.3818</td>\n",
       "      <td>0.0</td>\n",
       "    </tr>\n",
       "    <tr>\n",
       "      <th>4</th>\n",
       "      <td>@realDonaldTrump trump supporters posing as po...</td>\n",
       "      <td>MysticHippy3</td>\n",
       "      <td>Washington, USA</td>\n",
       "      <td>2823</td>\n",
       "      <td>2761</td>\n",
       "      <td>20764</td>\n",
       "      <td>2013-05-26 00:32:18.000000</td>\n",
       "      <td>👏This country needs to be united again👏. Seeki...</td>\n",
       "      <td>False</td>\n",
       "      <td>20995</td>\n",
       "      <td>2020-07-09 13:08:47.566739</td>\n",
       "      <td>0.000000</td>\n",
       "      <td>0.000000</td>\n",
       "      <td></td>\n",
       "      <td>0.4404</td>\n",
       "      <td>0.0</td>\n",
       "    </tr>\n",
       "  </tbody>\n",
       "</table>\n",
       "</div>"
      ],
      "text/plain": [
       "                                              Tweets            User  \\\n",
       "0  Year 7 pupils Jasmine &amp; Maisie have been s...  UrmstonGrammar   \n",
       "1  I didn't know who Lewis Howard Latimer was unt...         rapella   \n",
       "2  My NEW BLOG — '3 ways teachers can integrate S...    JorgeDoesPBL   \n",
       "3  @minakimes @hbryant42 Jackie Robinson's daught...     nancylevine   \n",
       "4  @realDonaldTrump trump supporters posing as po...    MysticHippy3   \n",
       "\n",
       "               Location  Follower Count  Following Count  Number of Tweets  \\\n",
       "0               M41 5UG            1988              124              2368   \n",
       "1  east sussex, england            1301              727             67991   \n",
       "2         United States            3937             3184              9647   \n",
       "3           Fairfax, CA           15622             9849            174865   \n",
       "4       Washington, USA            2823             2761             20764   \n",
       "\n",
       "         Account Created Date  \\\n",
       "0  2010-11-15 13:55:42.000000   \n",
       "1  2008-07-24 21:45:36.000000   \n",
       "2  2015-11-07 15:21:38.000000   \n",
       "3  2009-03-28 18:38:06.000000   \n",
       "4  2013-05-26 00:32:18.000000   \n",
       "\n",
       "                                 Account Description  Verified  \\\n",
       "0  Urmston Grammar is a Selective Grammar, an Ind...     False   \n",
       "1  web tart, linguist, cuerdas, ux, cyclist, poly...     False   \n",
       "2  Education Coach, Author & Advocate @LifelongLD...     False   \n",
       "3  Author THE TAO OF PUG 4-book series (Penguin/S...     False   \n",
       "4  👏This country needs to be united again👏. Seeki...     False   \n",
       "\n",
       "   Favourites Count                        Date  Subjectivity  Polarity  \\\n",
       "0               255  2020-07-09 13:08:47.554713      0.000000  0.000000   \n",
       "1             14148  2020-07-09 13:08:47.566739      0.000000  0.000000   \n",
       "2             17685  2020-07-09 13:08:47.566739      0.727273  0.485227   \n",
       "3            193314  2020-07-09 13:08:47.566739      0.541667  0.233333   \n",
       "4             20995  2020-07-09 13:08:47.566739      0.000000  0.000000   \n",
       "\n",
       "  Tweet_Emoji  Sentiment  Sentiment_Emoji  \n",
       "0                -0.3595              0.0  \n",
       "1          👇👇     0.0000              0.0  \n",
       "2                 0.8745              0.0  \n",
       "3                 0.3818              0.0  \n",
       "4                 0.4404              0.0  "
      ]
     },
     "execution_count": 43,
     "metadata": {},
     "output_type": "execute_result"
    }
   ],
   "source": [
    "df.head()"
   ]
  },
  {
   "cell_type": "code",
   "execution_count": 44,
   "metadata": {},
   "outputs": [
    {
     "data": {
      "text/plain": [
       "      10549\n",
       "❤        71\n",
       "🤔        61\n",
       "✊🏾       60\n",
       "🔊        56\n",
       "Name: Tweet_Emoji, dtype: int64"
      ]
     },
     "execution_count": 44,
     "metadata": {},
     "output_type": "execute_result"
    }
   ],
   "source": [
    "df.Tweet_Emoji.value_counts()[:5]"
   ]
  },
  {
   "cell_type": "code",
   "execution_count": 45,
   "metadata": {},
   "outputs": [
    {
     "data": {
      "text/plain": [
       "0.4404"
      ]
     },
     "execution_count": 45,
     "metadata": {},
     "output_type": "execute_result"
    }
   ],
   "source": [
    "sentiment_analyzer_scores('The food is good')"
   ]
  },
  {
   "cell_type": "code",
   "execution_count": 46,
   "metadata": {},
   "outputs": [
    {
     "data": {
      "text/plain": [
       "0.5622"
      ]
     },
     "execution_count": 46,
     "metadata": {},
     "output_type": "execute_result"
    }
   ],
   "source": [
    "sentiment_analyzer_scores('The food is GOOD')"
   ]
  },
  {
   "cell_type": "code",
   "execution_count": 47,
   "metadata": {},
   "outputs": [
    {
     "data": {
      "text/plain": [
       "0.6027"
      ]
     },
     "execution_count": 47,
     "metadata": {},
     "output_type": "execute_result"
    }
   ],
   "source": [
    "sentiment_analyzer_scores('The food is GOOD!')"
   ]
  },
  {
   "cell_type": "code",
   "execution_count": 48,
   "metadata": {},
   "outputs": [
    {
     "data": {
      "text/plain": [
       "0.639"
      ]
     },
     "execution_count": 48,
     "metadata": {},
     "output_type": "execute_result"
    }
   ],
   "source": [
    "sentiment_analyzer_scores('The food is GOOD!!')"
   ]
  },
  {
   "cell_type": "code",
   "execution_count": 49,
   "metadata": {},
   "outputs": [],
   "source": [
    "emoji_df = df[df.Sentiment_Emoji.isna()]"
   ]
  },
  {
   "cell_type": "code",
   "execution_count": 50,
   "metadata": {},
   "outputs": [
    {
     "data": {
      "text/html": [
       "<div>\n",
       "<style scoped>\n",
       "    .dataframe tbody tr th:only-of-type {\n",
       "        vertical-align: middle;\n",
       "    }\n",
       "\n",
       "    .dataframe tbody tr th {\n",
       "        vertical-align: top;\n",
       "    }\n",
       "\n",
       "    .dataframe thead th {\n",
       "        text-align: right;\n",
       "    }\n",
       "</style>\n",
       "<table border=\"1\" class=\"dataframe\">\n",
       "  <thead>\n",
       "    <tr style=\"text-align: right;\">\n",
       "      <th></th>\n",
       "      <th>Tweets</th>\n",
       "      <th>User</th>\n",
       "      <th>Location</th>\n",
       "      <th>Follower Count</th>\n",
       "      <th>Following Count</th>\n",
       "      <th>Number of Tweets</th>\n",
       "      <th>Account Created Date</th>\n",
       "      <th>Account Description</th>\n",
       "      <th>Verified</th>\n",
       "      <th>Favourites Count</th>\n",
       "      <th>Date</th>\n",
       "      <th>Subjectivity</th>\n",
       "      <th>Polarity</th>\n",
       "      <th>Tweet_Emoji</th>\n",
       "      <th>Sentiment</th>\n",
       "      <th>Sentiment_Emoji</th>\n",
       "    </tr>\n",
       "  </thead>\n",
       "  <tbody>\n",
       "  </tbody>\n",
       "</table>\n",
       "</div>"
      ],
      "text/plain": [
       "Empty DataFrame\n",
       "Columns: [Tweets, User, Location, Follower Count, Following Count, Number of Tweets, Account Created Date, Account Description, Verified, Favourites Count, Date, Subjectivity, Polarity, Tweet_Emoji, Sentiment, Sentiment_Emoji]\n",
       "Index: []"
      ]
     },
     "execution_count": 50,
     "metadata": {},
     "output_type": "execute_result"
    }
   ],
   "source": [
    "emoji_df.head()"
   ]
  },
  {
   "cell_type": "code",
   "execution_count": 54,
   "metadata": {},
   "outputs": [
    {
     "data": {
      "text/plain": [
       "0.0"
      ]
     },
     "execution_count": 54,
     "metadata": {},
     "output_type": "execute_result"
    }
   ],
   "source": [
    "sentiment_analyzer_scores('hi ❤')"
   ]
  },
  {
   "cell_type": "code",
   "execution_count": null,
   "metadata": {},
   "outputs": [],
   "source": []
  }
 ],
 "metadata": {
  "kernelspec": {
   "display_name": "Python 3",
   "language": "python",
   "name": "python3"
  },
  "language_info": {
   "codemirror_mode": {
    "name": "ipython",
    "version": 3
   },
   "file_extension": ".py",
   "mimetype": "text/x-python",
   "name": "python",
   "nbconvert_exporter": "python",
   "pygments_lexer": "ipython3",
   "version": "3.6.5"
  }
 },
 "nbformat": 4,
 "nbformat_minor": 2
}
